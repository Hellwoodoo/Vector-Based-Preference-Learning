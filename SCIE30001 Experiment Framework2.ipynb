{
 "cells": [
  {
   "cell_type": "code",
   "execution_count": 1,
   "id": "6dd795b2",
   "metadata": {},
   "outputs": [],
   "source": [
    "import pandas as pd\n",
    "import numpy as np\n",
    "from sklearn.preprocessing import StandardScaler\n",
    "from sklearn.decomposition import PCA\n",
    "csvfile = pd.read_csv(\"Database3.csv\")\n",
    "csvfile_a = pd.read_csv(\"Database3a - 5.csv\")\n",
    "features = csvfile.columns\n",
    "d = len(features) \n",
    "X = csvfile.iloc[:, ].values\n",
    "answer = csvfile_a.iloc[:, ].values\n",
    "\n",
    "snum = 0.0000001\n",
    "initial_preference_vector = np.repeat(snum, d)\n"
   ]
  },
  {
   "cell_type": "code",
   "execution_count": 2,
   "id": "1fb6cc5e",
   "metadata": {},
   "outputs": [],
   "source": [
    "def choice(items, top_k, k):\n",
    "    for j in items:\n",
    "        for i in range(0, k):\n",
    "            if (np.array_equal(answer[i], top_k[j])):\n",
    "                return j\n",
    "    return False  "
   ]
  },
  {
   "cell_type": "code",
   "execution_count": 3,
   "id": "26bf022f-04d1-4b55-acfb-775575625e83",
   "metadata": {},
   "outputs": [],
   "source": [
    "def user_items(comb, all_vecs, terminate):\n",
    "    vec = []\n",
    "    if (all_vecs == []):\n",
    "        vec = comb[0]\n",
    "        all_vecs.append(comb[0])\n",
    "        terminate = False\n",
    "        return vec, all_vecs, terminate \n",
    "    else: \n",
    "        for i in comb:\n",
    "            k = 0\n",
    "            for j in all_vecs:\n",
    "                if (np.array_equal(i, j)):\n",
    "                    continue\n",
    "                else:\n",
    "                    k += 1\n",
    "            if (k == len(all_vecs)):\n",
    "                vec = i\n",
    "                all_vecs.append(list(vec))\n",
    "                terminate = False\n",
    "                return list(vec), all_vecs, terminate  \n",
    "                    \n",
    "    return list(vec), (all_vecs), terminate  "
   ]
  },
  {
   "cell_type": "code",
   "execution_count": 4,
   "id": "619273bb-5a21-4725-8342-a139ff075f01",
   "metadata": {},
   "outputs": [],
   "source": [
    "def combination(vec, n):\n",
    "    if not n:\n",
    "        return [[]]\n",
    "    if not vec:\n",
    "        return []\n",
    "    head = [vec[0]]\n",
    "    tail = vec[1:]\n",
    "    new_comb = list([head + lis for lis in combination(tail, n - 1)])\n",
    "    return new_comb + combination(tail, n)"
   ]
  },
  {
   "cell_type": "code",
   "execution_count": 5,
   "id": "e6d60d25-2364-46d9-b536-86e1dccd8de6",
   "metadata": {},
   "outputs": [],
   "source": [
    "def preference_learning(k, c, preference_vector, X, all_vecs): \n",
    "    distances = np.linalg.norm(X - preference_vector, axis = 1)\n",
    "    top_k = distances.argsort()[:k]\n",
    "\n",
    "    x = StandardScaler().fit_transform(X[top_k])\n",
    "    pca_item = PCA(n_components = k - 1)\n",
    "    principalComponents_item = pca_item.fit_transform(x)\n",
    "     \n",
    "    vec = list(np.argmax(principalComponents_item, axis = 0))\n",
    "\n",
    "    comb = list(combination(vec, c))\n",
    "    it = 0\n",
    "    for i in comb:    \n",
    "        if (np.array_equal(pd.unique(i), i)):\n",
    "            it += 1\n",
    "        else:\n",
    "            comb = np.delete(comb, it, 0)\n",
    "    new_comb = []\n",
    "    for i in comb:\n",
    "        vec_comb = []\n",
    "        for j in i:\n",
    "            vec_comb.append(j)\n",
    "        new_comb.append(vec_comb)\n",
    "    \n",
    "    terminate = True\n",
    "    vec2, new_all_vecs, new_terminate = user_items(comb, all_vecs, terminate)\n",
    "    \n",
    "    vec_index = choice(vec2, X[top_k], k)\n",
    "    v = X[top_k][vec_index]\n",
    "    new_preference_vector = (preference_vector + v) / 2\n",
    "\n",
    "    new_distances = np.linalg.norm(X - new_preference_vector, axis = 1)\n",
    "    new_top_k = new_distances.argsort()[:k]\n",
    "    return X[new_top_k], (new_preference_vector), v, (new_all_vecs), new_terminate, (new_comb), vec"
   ]
  },
  {
   "cell_type": "code",
   "execution_count": 6,
   "id": "0b828e21-b1f9-4558-a690-752281685733",
   "metadata": {},
   "outputs": [],
   "source": [
    "def compare(a, b): \n",
    "    m = 0\n",
    "    for i in a:\n",
    "        for j in b:\n",
    "            if (np.array_equal(i, j)):\n",
    "                m += 1\n",
    "    if (m == len(a)):\n",
    "        return True\n",
    "    else: return False"
   ]
  },
  {
   "cell_type": "code",
   "execution_count": 7,
   "id": "6b9b2e95",
   "metadata": {},
   "outputs": [
    {
     "name": "stdout",
     "output_type": "stream",
     "text": [
      "[[1 1 1 1 2 2 1 1 1]\n",
      " [1 1 1 1 1 2 2 1 1]\n",
      " [1 1 1 2 2 1 1 1 1]\n",
      " [2 1 1 1 1 1 2 1 1]\n",
      " [1 2 2 1 1 1 1 1 1]]\n",
      "[[1 1 1 1 2 2 1 1 1]\n",
      " [1 1 1 1 1 2 2 1 1]\n",
      " [2 1 1 1 1 1 2 1 1]\n",
      " [1 1 1 1 1 1 3 3 1]\n",
      " [1 1 1 1 1 1 1 3 3]]\n",
      "2\n",
      "[array([4, 2, 3], dtype=int64), [1, 2, 0]]\n",
      "[0.75000003 0.75000003 0.75000003 0.75000003 1.25000003 1.50000002\n",
      " 1.00000002 0.75000003 0.75000003]\n",
      "False\n",
      "[[1, 2, 0], [1, 0, 2]]\n",
      "[1, 2, 0, 2]\n"
     ]
    }
   ],
   "source": [
    "# Testing Framework\n",
    "iterations = 0\n",
    "all_vecs = []\n",
    "\n",
    "while True:\n",
    "    if (iterations > 1):\n",
    "        break\n",
    "        \n",
    "    if (iterations == 0):\n",
    "        a, pv, v, av, t, comb, vec = preference_learning(5, 3, initial_preference_vector, X, all_vecs)\n",
    "    else:\n",
    "        a, pv, v, av, t, comb, vec = preference_learning(5, 3, pv, X, av)\n",
    "        \n",
    "    if (compare(a, answer)):\n",
    "        iterations += 1\n",
    "        break # Not in Order\n",
    "    else:\n",
    "        # print(v)\n",
    "        iterations += 1\n",
    "print(a)\n",
    "print(answer)\n",
    "print(iterations)\n",
    "print(av)\n",
    "print(pv)\n",
    "print(t)\n",
    "print(comb)\n",
    "print(vec)"
   ]
  },
  {
   "cell_type": "code",
   "execution_count": null,
   "id": "ee85554f",
   "metadata": {},
   "outputs": [],
   "source": []
  },
  {
   "cell_type": "code",
   "execution_count": null,
   "id": "29844244",
   "metadata": {},
   "outputs": [],
   "source": []
  }
 ],
 "metadata": {
  "kernelspec": {
   "display_name": "Python 3 (ipykernel)",
   "language": "python",
   "name": "python3"
  },
  "language_info": {
   "codemirror_mode": {
    "name": "ipython",
    "version": 3
   },
   "file_extension": ".py",
   "mimetype": "text/x-python",
   "name": "python",
   "nbconvert_exporter": "python",
   "pygments_lexer": "ipython3",
   "version": "3.9.7"
  }
 },
 "nbformat": 4,
 "nbformat_minor": 5
}
