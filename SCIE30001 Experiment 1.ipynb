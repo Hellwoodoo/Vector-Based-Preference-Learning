{
 "cells": [
  {
   "cell_type": "code",
   "execution_count": 97,
   "id": "8293bedc",
   "metadata": {},
   "outputs": [],
   "source": [
    "import pandas as pd\n",
    "import numpy as np\n",
    "from itertools import combinations\n",
    "csvfile = pd.read_csv(\"Database3.csv\")\n",
    "X = csvfile.iloc[:, ].values\n",
    "features = csvfile.columns\n",
    "d = len(features) # Number of dimensions\n",
    "csvfile_a = pd.read_csv(\"Database3a - 6.csv\")\n",
    "answer = csvfile_a.iloc[:, ].values"
   ]
  },
  {
   "cell_type": "code",
   "execution_count": 98,
   "id": "b5e6d023",
   "metadata": {},
   "outputs": [
    {
     "data": {
      "text/plain": [
       "array([[1, 2, 2, 1, 1, 1, 1, 1, 1],\n",
       "       [1, 1, 2, 2, 1, 1, 1, 1, 1],\n",
       "       [1, 1, 1, 2, 2, 1, 1, 1, 1],\n",
       "       [1, 1, 1, 1, 2, 2, 1, 1, 1],\n",
       "       [1, 1, 1, 1, 1, 2, 2, 1, 1],\n",
       "       [2, 1, 1, 1, 1, 1, 2, 1, 1]], dtype=int64)"
      ]
     },
     "execution_count": 124,
     "metadata": {},
     "output_type": "execute_result"
    }
   ],
   "source": [
    "# Preference Vector - Initial\n",
    "snum = 0.0000001\n",
    "preference_vector = np.repeat(snum, d)\n",
    "\n",
    "# Algorithm to find top-k\n",
    "distances = np.linalg.norm(X - preference_vector, axis = 1)\n",
    "k = 6; \n",
    "top_k = distances.argsort()[:k]\n",
    "X[top_k]"
   ]
  },
  {
   "cell_type": "code",
   "execution_count": 99,
   "id": "2abc0397",
   "metadata": {},
   "outputs": [
    {
     "data": {
      "text/plain": [
       "(5.3455182667137164e-17, 0.8819171036881969)"
      ]
     },
     "execution_count": 125,
     "metadata": {},
     "output_type": "execute_result"
    }
   ],
   "source": [
    "# Standardization\n",
    "from sklearn.preprocessing import StandardScaler\n",
    "x = StandardScaler().fit_transform(X[top_k])\n",
    "np.mean(x), np.std(x) "
   ]
  },
  {
   "cell_type": "code",
   "execution_count": 100,
   "id": "919bf1f4",
   "metadata": {},
   "outputs": [
    {
     "data": {
      "text/plain": [
       "array([[ 2.01151861, -1.71060671, -1.33030098, -0.65101818, -0.1846407 ],\n",
       "       [ 1.81972644, -0.12621267,  0.99991999,  1.1764652 ,  0.43446024],\n",
       "       [ 0.72653833,  1.83681938,  1.17866368, -0.52544702, -0.57696966],\n",
       "       [-0.72653833,  1.83681938, -1.17866368, -0.52544702,  0.57696966],\n",
       "       [-1.81972644, -0.12621267, -0.99991999,  1.1764652 , -0.43446024],\n",
       "       [-2.01151861, -1.71060671,  1.33030098, -0.65101818,  0.1846407 ]])"
      ]
     },
     "execution_count": 126,
     "metadata": {},
     "output_type": "execute_result"
    }
   ],
   "source": [
    "# Principal Component\n",
    "from sklearn.decomposition import PCA\n",
    "c = k - 1 # c < k \n",
    "pca_item = PCA(n_components = c)\n",
    "principalComponents_item = pca_item.fit_transform(x)\n",
    "principalComponents_item # k arrays with c "
   ]
  },
  {
   "cell_type": "code",
   "execution_count": 101,
   "id": "32df4499",
   "metadata": {},
   "outputs": [
    {
     "data": {
      "text/plain": [
       "[0, 2, 5, 4, 3]"
      ]
     },
     "execution_count": 127,
     "metadata": {},
     "output_type": "execute_result"
    }
   ],
   "source": [
    "# Return c items to the user\n",
    "# vec2 = []\n",
    "# for i in np.absolute(principalComponents_item).T:\n",
    "#     ivec = []\n",
    "#     base = i[0]\n",
    "#     int1 = -1\n",
    "#     int2 = 0\n",
    "#     for j in i:\n",
    "#         int1 += 1\n",
    "#         if j >= base:\n",
    "#             base = j\n",
    "#             int2 = int1\n",
    "#             ivec.append(int2)\n",
    "    \n",
    "#     for i in ivec[::-1]:\n",
    "#         if i in vec2:\n",
    "#             continue\n",
    "#         else:\n",
    "#             int2 = i\n",
    "#     vec2.append(int2)\n",
    "vec = np.argmax(principalComponents_item, axis = 0)\n",
    "# vec = []\n",
    "# for i in l:\n",
    "#     vec.append(i)\n",
    "list(vec)"
   ]
  },
  {
   "cell_type": "code",
   "execution_count": 102,
   "id": "43a34331",
   "metadata": {},
   "outputs": [],
   "source": [
    "def choice(items, top_k, k):\n",
    "    for i in range(0, k):\n",
    "        for j in items:\n",
    "            if (np.array_equal(answer[i], top_k[j])):\n",
    "                return j\n",
    "    return False  "
   ]
  },
  {
   "cell_type": "code",
   "execution_count": 103,
   "id": "0b679ccc-1258-400b-8804-c512fb3e26dc",
   "metadata": {},
   "outputs": [],
   "source": [
    "# def combination(lst, n):\n",
    "#     l = []\n",
    "#     for i in range(0, len(lst)):\n",
    "#         m = lst[i]\n",
    "#         remLst = lst[i + 1:]\n",
    "#         for p in combination(remLst, n - 1):\n",
    "#             l.append([m] + p)\n",
    "#     return l\n",
    "# def combination(vec):\n",
    "#     for i, v1 in enumerate(vec):\n",
    "#         for j in range(i + 1, len(vec)):\n",
    "#             yield [v1, vec[j]]\n",
    "def combinations(vec, n):\n",
    "    if not n:\n",
    "        return [[]]\n",
    "    if not vec:\n",
    "        return []\n",
    "    head = [vec[0]]\n",
    "    tail = vec[1:]\n",
    "    new_comb = [head + lis for lis in combinations(tail, n - 1)]\n",
    "    return new_comb + combinations(tail, n)"
   ]
  },
  {
   "cell_type": "code",
   "execution_count": 104,
   "id": "48553b90-a633-4401-a51d-02d161b10271",
   "metadata": {},
   "outputs": [],
   "source": [
    "def user_items(comb, all_vecs, terminate):\n",
    "    vec = []\n",
    "    for i in comb:\n",
    "        for j in all_vecs:\n",
    "            if (np.array_equal(a, i) == False):\n",
    "                vec = a\n",
    "                all_vecs.append(vec)\n",
    "                terminate = False\n",
    "    return vec, all_vecs, terminate  "
   ]
  },
  {
   "cell_type": "code",
   "execution_count": 119,
   "id": "18e037d5-4df2-413e-91fe-d4daccdb4332",
   "metadata": {},
   "outputs": [
    {
     "name": "stdout",
     "output_type": "stream",
     "text": [
      "[[0, 2, 5], [0, 2, 4], [0, 2, 3], [0, 5, 4], [0, 5, 3], [0, 4, 3], [2, 5, 4], [2, 5, 3], [2, 4, 3], [5, 4, 3]]\n"
     ]
    },
    {
     "data": {
      "text/plain": [
       "[[0, 2, 5],\n",
       " [0, 2, 4],\n",
       " [0, 2, 3],\n",
       " [0, 5, 4],\n",
       " [0, 5, 3],\n",
       " [0, 4, 3],\n",
       " [2, 5, 4],\n",
       " [2, 5, 3],\n",
       " [2, 4, 3],\n",
       " [5, 4, 3]]"
      ]
     },
     "execution_count": 137,
     "metadata": {},
     "output_type": "execute_result"
    }
   ],
   "source": [
    "# combination(vec2, 2)\n",
    "all_vecs = []\n",
    "comb = list(combinations(list(vec), 3))\n",
    "print(comb)\n",
    "it = 0\n",
    "for i in comb:    \n",
    "    if (np.array_equal(pd.unique(i), i)):\n",
    "        it += 1\n",
    "    else:\n",
    "        comb = np.delete(comb, it, 0)\n",
    "print(comb)\n",
    "terminate = True\n",
    "vec2 = user_items(comb, all_vecs, terminate)\n",
    "vec2"
   ]
  },
  {
   "cell_type": "code",
   "execution_count": 120,
   "id": "72147372",
   "metadata": {},
   "outputs": [
    {
     "data": {
      "text/plain": [
       "array([], shape=(0, 6, 9), dtype=float64)"
      ]
     },
     "execution_count": 131,
     "metadata": {},
     "output_type": "execute_result"
    }
   ],
   "source": [
    "# Arbitrarily choose one of c (User Step)\n",
    "vec_index = choice(vec2, X[top_k], k)\n",
    "v = X[top_k][vec_index]\n",
    "new_preference_vector = (preference_vector + v) / 2\n",
    "new_preference_vector"
   ]
  },
  {
   "cell_type": "code",
   "execution_count": 121,
   "id": "19ca4811",
   "metadata": {},
   "outputs": [
    {
     "ename": "ValueError",
     "evalue": "operands could not be broadcast together with shapes (9,9) (0,6,9) ",
     "output_type": "error",
     "traceback": [
      "\u001b[1;31m---------------------------------------------------------------------------\u001b[0m",
      "\u001b[1;31mValueError\u001b[0m                                Traceback (most recent call last)",
      "\u001b[1;32m~\\AppData\\Local\\Temp/ipykernel_1880/877926123.py\u001b[0m in \u001b[0;36m<module>\u001b[1;34m\u001b[0m\n\u001b[0;32m      1\u001b[0m \u001b[1;31m# New top-k\u001b[0m\u001b[1;33m\u001b[0m\u001b[1;33m\u001b[0m\u001b[0m\n\u001b[1;32m----> 2\u001b[1;33m \u001b[0mnew_distances\u001b[0m \u001b[1;33m=\u001b[0m \u001b[0mnp\u001b[0m\u001b[1;33m.\u001b[0m\u001b[0mlinalg\u001b[0m\u001b[1;33m.\u001b[0m\u001b[0mnorm\u001b[0m\u001b[1;33m(\u001b[0m\u001b[0mX\u001b[0m \u001b[1;33m-\u001b[0m \u001b[0mnew_preference_vector\u001b[0m\u001b[1;33m,\u001b[0m \u001b[0maxis\u001b[0m \u001b[1;33m=\u001b[0m \u001b[1;36m1\u001b[0m\u001b[1;33m)\u001b[0m\u001b[1;33m\u001b[0m\u001b[1;33m\u001b[0m\u001b[0m\n\u001b[0m\u001b[0;32m      3\u001b[0m \u001b[0mk\u001b[0m \u001b[1;33m=\u001b[0m \u001b[1;36m6\u001b[0m\u001b[1;33m;\u001b[0m\u001b[1;33m\u001b[0m\u001b[1;33m\u001b[0m\u001b[0m\n\u001b[0;32m      4\u001b[0m \u001b[0mnew_top_k\u001b[0m \u001b[1;33m=\u001b[0m \u001b[0mnew_distances\u001b[0m\u001b[1;33m.\u001b[0m\u001b[0margsort\u001b[0m\u001b[1;33m(\u001b[0m\u001b[1;33m)\u001b[0m\u001b[1;33m[\u001b[0m\u001b[1;33m:\u001b[0m\u001b[0mk\u001b[0m\u001b[1;33m]\u001b[0m\u001b[1;33m\u001b[0m\u001b[1;33m\u001b[0m\u001b[0m\n\u001b[0;32m      5\u001b[0m \u001b[0mX\u001b[0m\u001b[1;33m[\u001b[0m\u001b[0mnew_top_k\u001b[0m\u001b[1;33m]\u001b[0m\u001b[1;33m,\u001b[0m \u001b[0mX\u001b[0m\u001b[1;33m[\u001b[0m\u001b[0mtop_k\u001b[0m\u001b[1;33m]\u001b[0m\u001b[1;33m\u001b[0m\u001b[1;33m\u001b[0m\u001b[0m\n",
      "\u001b[1;31mValueError\u001b[0m: operands could not be broadcast together with shapes (9,9) (0,6,9) "
     ]
    }
   ],
   "source": [
    "# New top-k\n",
    "new_distances = np.linalg.norm(X - new_preference_vector, axis = 1)\n",
    "k = 6; \n",
    "new_top_k = new_distances.argsort()[:k]\n",
    "X[new_top_k], X[top_k]"
   ]
  },
  {
   "cell_type": "code",
   "execution_count": 19,
   "id": "a1cfb258-e858-4c19-b25a-57df85883c1c",
   "metadata": {},
   "outputs": [
    {
     "data": {
      "text/plain": [
       "array([[3, 0],\n",
       "       [0, 0]], dtype=int64)"
      ]
     },
     "execution_count": 19,
     "metadata": {},
     "output_type": "execute_result"
    }
   ],
   "source": []
  },
  {
   "cell_type": "code",
   "execution_count": 50,
   "id": "7ad1ce64-8400-487d-a730-43003b94c6ba",
   "metadata": {},
   "outputs": [
    {
     "name": "stdout",
     "output_type": "stream",
     "text": [
      "0\n",
      "0\n",
      "1\n",
      "[0, 0, 1]\n"
     ]
    }
   ],
   "source": [
    "l = np.argmax([[1, 2, 2], [1, 2, 3]], axis = 0)\n",
    "vec = []\n",
    "for i in l:\n",
    "    vec.append(i)\n",
    "for i in vec:\n",
    "    if (np.array_equal(np.unique(i), i) == False):\n",
    "        np.delete(vec, i)\n",
    "print(vec)"
   ]
  },
  {
   "cell_type": "code",
   "execution_count": 65,
   "id": "d6415c5c-f861-4f80-98b9-4e33efca0ec4",
   "metadata": {},
   "outputs": [
    {
     "name": "stdout",
     "output_type": "stream",
     "text": [
      "[[1 2 3]]\n"
     ]
    }
   ],
   "source": [
    "vec = [[1, 1, 2], [1, 2, 3]]\n",
    "int = 0\n",
    "for i in vec:\n",
    "    if (np.array_equal(np.unique(i), i)):\n",
    "        int += 1\n",
    "    else:\n",
    "        vec = np.delete(vec, int, 0)\n",
    "print(vec)"
   ]
  },
  {
   "cell_type": "code",
   "execution_count": null,
   "id": "e23742c2-8144-4d39-b915-2724e6a7d0ff",
   "metadata": {},
   "outputs": [],
   "source": []
  }
 ],
 "metadata": {
  "kernelspec": {
   "display_name": "Python 3 (ipykernel)",
   "language": "python",
   "name": "python3"
  },
  "language_info": {
   "codemirror_mode": {
    "name": "ipython",
    "version": 3
   },
   "file_extension": ".py",
   "mimetype": "text/x-python",
   "name": "python",
   "nbconvert_exporter": "python",
   "pygments_lexer": "ipython3",
   "version": "3.9.7"
  }
 },
 "nbformat": 4,
 "nbformat_minor": 5
}
